{
 "cells": [
  {
   "cell_type": "markdown",
   "id": "33a5be85",
   "metadata": {},
   "source": [
    "## OA Flux plots\n",
    "\n",
    "Make annual mean plots to of OA Flux data product (Yu and Weller, 2008?).  Prioritize maps of time mean latent, sensible, SWR, LWR, and truncate to satellite era. "
   ]
  },
  {
   "cell_type": "code",
   "execution_count": null,
   "id": "e06c9682",
   "metadata": {},
   "outputs": [],
   "source": []
  }
 ],
 "metadata": {
  "kernelspec": {
   "display_name": "Python 3 (ipykernel)",
   "language": "python",
   "name": "python3"
  },
  "language_info": {
   "codemirror_mode": {
    "name": "ipython",
    "version": 3
   },
   "file_extension": ".py",
   "mimetype": "text/x-python",
   "name": "python",
   "nbconvert_exporter": "python",
   "pygments_lexer": "ipython3",
   "version": "3.8.6"
  }
 },
 "nbformat": 4,
 "nbformat_minor": 5
}
